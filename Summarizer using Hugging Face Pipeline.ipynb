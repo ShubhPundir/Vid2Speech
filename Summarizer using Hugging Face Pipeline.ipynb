{
 "cells": [
  {
   "cell_type": "code",
   "execution_count": 1,
   "id": "e25473e2",
   "metadata": {},
   "outputs": [],
   "source": [
    "from transformers import pipeline"
   ]
  },
  {
   "cell_type": "code",
   "execution_count": 2,
   "id": "c94f4dfc",
   "metadata": {},
   "outputs": [
    {
     "name": "stderr",
     "output_type": "stream",
     "text": [
      "No model was supplied, defaulted to sshleifer/distilbart-cnn-12-6 and revision a4f8f3e (https://huggingface.co/sshleifer/distilbart-cnn-12-6).\n",
      "Using a pipeline without specifying a model name and revision in production is not recommended.\n"
     ]
    },
    {
     "data": {
      "application/vnd.jupyter.widget-view+json": {
       "model_id": "eda140370577464f8d14f27cf0629567",
       "version_major": 2,
       "version_minor": 0
      },
      "text/plain": [
       "Downloading (…)lve/main/config.json:   0%|          | 0.00/1.80k [00:00<?, ?B/s]"
      ]
     },
     "metadata": {},
     "output_type": "display_data"
    },
    {
     "name": "stderr",
     "output_type": "stream",
     "text": [
      "C:\\Users\\robot\\anaconda3\\Lib\\site-packages\\huggingface_hub\\file_download.py:137: UserWarning: `huggingface_hub` cache-system uses symlinks by default to efficiently store duplicated files but your machine does not support them in C:\\Users\\robot\\.cache\\huggingface\\hub. Caching files will still work but in a degraded version that might require more space on your disk. This warning can be disabled by setting the `HF_HUB_DISABLE_SYMLINKS_WARNING` environment variable. For more details, see https://huggingface.co/docs/huggingface_hub/how-to-cache#limitations.\n",
      "To support symlinks on Windows, you either need to activate Developer Mode or to run Python as an administrator. In order to see activate developer mode, see this article: https://docs.microsoft.com/en-us/windows/apps/get-started/enable-your-device-for-development\n",
      "  warnings.warn(message)\n"
     ]
    },
    {
     "data": {
      "application/vnd.jupyter.widget-view+json": {
       "model_id": "4b07a1a6063f43dba5fb22a17dfd2140",
       "version_major": 2,
       "version_minor": 0
      },
      "text/plain": [
       "Downloading pytorch_model.bin:   0%|          | 0.00/1.22G [00:00<?, ?B/s]"
      ]
     },
     "metadata": {},
     "output_type": "display_data"
    },
    {
     "data": {
      "application/vnd.jupyter.widget-view+json": {
       "model_id": "f604b37ddc2845f2a410e7a278abc8da",
       "version_major": 2,
       "version_minor": 0
      },
      "text/plain": [
       "Downloading (…)okenizer_config.json:   0%|          | 0.00/26.0 [00:00<?, ?B/s]"
      ]
     },
     "metadata": {},
     "output_type": "display_data"
    },
    {
     "data": {
      "application/vnd.jupyter.widget-view+json": {
       "model_id": "c525b55c2f634830bb0a6d244eea8d71",
       "version_major": 2,
       "version_minor": 0
      },
      "text/plain": [
       "Downloading (…)olve/main/vocab.json:   0%|          | 0.00/899k [00:00<?, ?B/s]"
      ]
     },
     "metadata": {},
     "output_type": "display_data"
    },
    {
     "data": {
      "application/vnd.jupyter.widget-view+json": {
       "model_id": "35ad6abb11ce434584b4e8551f444d03",
       "version_major": 2,
       "version_minor": 0
      },
      "text/plain": [
       "Downloading (…)olve/main/merges.txt:   0%|          | 0.00/456k [00:00<?, ?B/s]"
      ]
     },
     "metadata": {},
     "output_type": "display_data"
    }
   ],
   "source": [
    "summarizer = pipeline('summarization')"
   ]
  },
  {
   "cell_type": "code",
   "execution_count": 3,
   "id": "d557ec4f",
   "metadata": {},
   "outputs": [],
   "source": [
    "article = '''\n",
    "Cybercrime is generally said as an unlawful act where any crime involves a computer and a network, Here computer might be used in committing the crime, or it may be the target that may harm someone’s security or finances. It usually consists of activity like financial crimes, e-mail spoofing, forgery, cyber defamation, cyber stalking, intellectual property crime, online gambling, pornography, forgery, and sale of illegal articles, it covers a wide range of different attacks, which all deserve their unique approach when it comes to improving our computer’s whether it’s personal or office computer.\n",
    "\n",
    "In 2014, CNNMoney reported that almost half of American adults had been hacked that year alone.\n",
    "\n",
    "In 2015, cyber-crime was responsible for 53% of all crime in the UK\n",
    "\n",
    "\n",
    "cybercrime as a portion of UK crime in 2015\n",
    "That may seem hard to believe but figures show that 556 million people are victims of cybercrime—on average that’s 1.5 million victims per day.\n",
    "\n",
    "It is believed cybercrime could end up costing billions of dollars of damage, which only stresses the need for stronger security systems and better computer education for those connected to the internet. It also stresses the need for consequences for hackers who create security breaches.\n",
    "\n",
    "A recent example of a cyberattack and the following legal action is the case of Lauri Love. Love is a British cyber activist who’s been accused of penetrating systems belonging to the FBI, the US Navy, and the Federal Bank.\n",
    "\n",
    "Just days ago, a British judge ruled that Love could be extradited to the United States for trial.\n",
    "\n",
    "Love is accused of multiple counts of “computer misuse” under British law. If successfully extradited to the United States, he will go to trial for crimes that could sentence him to up to 99 years in prison. Love’s case demonstrates the extent of response that governments are beginning to take when they believe their systems have been compromised.\n",
    "\n",
    "'''"
   ]
  },
  {
   "cell_type": "code",
   "execution_count": 12,
   "id": "614a976e",
   "metadata": {},
   "outputs": [
    {
     "data": {
      "text/plain": [
       "{'summary_text': ' Cybercrime is generally said as an unlawful act where any crime involves a computer and a network . It usually consists of activity like financial crimes, e-mail spoofing, forgery, cyber defamation, cyber stalking, intellectual property crime, online gambling, pornography and forgery . In 2015, cyber-crime was responsible for 53% of all crime in the UK .'}"
      ]
     },
     "execution_count": 12,
     "metadata": {},
     "output_type": "execute_result"
    }
   ],
   "source": [
    "summary = summarizer(article,min_length=50,max_length=130,do_sample=False)[0]\n",
    "summary"
   ]
  },
  {
   "cell_type": "code",
   "execution_count": 13,
   "id": "f5f30084",
   "metadata": {},
   "outputs": [
    {
     "data": {
      "text/plain": [
       "56"
      ]
     },
     "execution_count": 13,
     "metadata": {},
     "output_type": "execute_result"
    }
   ],
   "source": [
    "len(summary['summary_text'].split())"
   ]
  }
 ],
 "metadata": {
  "kernelspec": {
   "display_name": "Python 3 (ipykernel)",
   "language": "python",
   "name": "python3"
  },
  "language_info": {
   "codemirror_mode": {
    "name": "ipython",
    "version": 3
   },
   "file_extension": ".py",
   "mimetype": "text/x-python",
   "name": "python",
   "nbconvert_exporter": "python",
   "pygments_lexer": "ipython3",
   "version": "3.11.4"
  }
 },
 "nbformat": 4,
 "nbformat_minor": 5
}
